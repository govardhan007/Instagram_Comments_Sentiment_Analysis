{
  "cells": [
    {
      "cell_type": "code",
      "execution_count": null,
      "metadata": {
        "id": "cZJC8_6ZEGph",
        "outputId": "13069847-aad8-4319-830f-b5664db222f4"
      },
      "outputs": [
        {
          "data": {
            "text/plain": [
              "<module 'nltk.downloader' from 'C:\\\\Users\\\\Adnan\\\\anaconda3\\\\lib\\\\site-packages\\\\nltk\\\\downloader.py'>"
            ]
          },
          "execution_count": 73,
          "metadata": {},
          "output_type": "execute_result"
        }
      ],
      "source": [
        "# Import liberaries\n",
        "from textblob import TextBlob\n",
        "import pandas as pd\n",
        "import matplotlib.pyplot as plt\n",
        "import re\n",
        "from wordcloud import WordCloud\n",
        "from nltk.tokenize import WordPunctTokenizer\n",
        "import numpy as np\n",
        "import nltk\n",
        "\n",
        "nltk.downloader"
      ]
    },
    {
      "cell_type": "markdown",
      "metadata": {
        "id": "eLfh2-SYEGpk"
      },
      "source": [
        "### Reading Comments"
      ]
    },
    {
      "cell_type": "code",
      "execution_count": null,
      "metadata": {
        "id": "qb9SOjT1EGpl"
      },
      "outputs": [],
      "source": [
        "df = pd.read_csv('data/lilmiquela_Comments.csv', delimiter=',')"
      ]
    },
    {
      "cell_type": "code",
      "execution_count": null,
      "metadata": {
        "id": "qkfDkCdoEGpl",
        "outputId": "cdfe167d-1cf2-46f6-fca6-41293d8a5ab7"
      },
      "outputs": [
        {
          "data": {
            "text/html": [
              "<div>\n",
              "<style scoped>\n",
              "    .dataframe tbody tr th:only-of-type {\n",
              "        vertical-align: middle;\n",
              "    }\n",
              "\n",
              "    .dataframe tbody tr th {\n",
              "        vertical-align: top;\n",
              "    }\n",
              "\n",
              "    .dataframe thead th {\n",
              "        text-align: right;\n",
              "    }\n",
              "</style>\n",
              "<table border=\"1\" class=\"dataframe\">\n",
              "  <thead>\n",
              "    <tr style=\"text-align: right;\">\n",
              "      <th></th>\n",
              "      <th>Post Link</th>\n",
              "      <th>Username</th>\n",
              "      <th>Comment</th>\n",
              "      <th>Time</th>\n",
              "    </tr>\n",
              "  </thead>\n",
              "  <tbody>\n",
              "    <tr>\n",
              "      <th>0</th>\n",
              "      <td>https://www.instagram.com/p/CRJ3yFxBVXG/</td>\n",
              "      <td>__darkweb90210</td>\n",
              "      <td>favorite❤️</td>\n",
              "      <td>2021-07-10T21:47:27.000Z</td>\n",
              "    </tr>\n",
              "    <tr>\n",
              "      <th>1</th>\n",
              "      <td>https://www.instagram.com/p/CRJ3yFxBVXG/</td>\n",
              "      <td>leaa.tru</td>\n",
              "      <td>u rock every fit bbyy</td>\n",
              "      <td>2021-07-10T21:47:27.000Z</td>\n",
              "    </tr>\n",
              "    <tr>\n",
              "      <th>2</th>\n",
              "      <td>https://www.instagram.com/p/CRJ3yFxBVXG/</td>\n",
              "      <td>yoonyuki97</td>\n",
              "      <td>Oh my baby You're so beautiful ❤️ I Love You s...</td>\n",
              "      <td>2021-07-10T21:47:27.000Z</td>\n",
              "    </tr>\n",
              "    <tr>\n",
              "      <th>3</th>\n",
              "      <td>https://www.instagram.com/p/CRJ3yFxBVXG/</td>\n",
              "      <td>lahf_and_lemons</td>\n",
              "      <td>Are you all robots? And is your dog a robot too?</td>\n",
              "      <td>2021-07-10T21:47:27.000Z</td>\n",
              "    </tr>\n",
              "    <tr>\n",
              "      <th>4</th>\n",
              "      <td>https://www.instagram.com/p/CRJ3yFxBVXG/</td>\n",
              "      <td>itsbrittkneemarie</td>\n",
              "      <td>That BAG 🔥😍</td>\n",
              "      <td>2021-07-10T21:47:27.000Z</td>\n",
              "    </tr>\n",
              "  </tbody>\n",
              "</table>\n",
              "</div>"
            ],
            "text/plain": [
              "                                  Post Link           Username  \\\n",
              "0  https://www.instagram.com/p/CRJ3yFxBVXG/     __darkweb90210   \n",
              "1  https://www.instagram.com/p/CRJ3yFxBVXG/           leaa.tru   \n",
              "2  https://www.instagram.com/p/CRJ3yFxBVXG/         yoonyuki97   \n",
              "3  https://www.instagram.com/p/CRJ3yFxBVXG/    lahf_and_lemons   \n",
              "4  https://www.instagram.com/p/CRJ3yFxBVXG/  itsbrittkneemarie   \n",
              "\n",
              "                                             Comment                      Time  \n",
              "0                                         favorite❤️  2021-07-10T21:47:27.000Z  \n",
              "1                              u rock every fit bbyy  2021-07-10T21:47:27.000Z  \n",
              "2  Oh my baby You're so beautiful ❤️ I Love You s...  2021-07-10T21:47:27.000Z  \n",
              "3   Are you all robots? And is your dog a robot too?  2021-07-10T21:47:27.000Z  \n",
              "4                                        That BAG 🔥😍  2021-07-10T21:47:27.000Z  "
            ]
          },
          "execution_count": 75,
          "metadata": {},
          "output_type": "execute_result"
        }
      ],
      "source": [
        "df.head()"
      ]
    },
    {
      "cell_type": "markdown",
      "metadata": {
        "id": "o8QRPACVEGpm"
      },
      "source": [
        "### Preprocessing comments"
      ]
    },
    {
      "cell_type": "code",
      "execution_count": null,
      "metadata": {
        "id": "KB-EhQkuEGpm"
      },
      "outputs": [],
      "source": [
        "def clean_comments(comment):\n",
        "    comment = str(comment)\n",
        "    # remove the username from comment\n",
        "    user_removed = re.sub(r'@[A-Za-z0-9]+','',comment)\n",
        "    # remove links from comment\n",
        "    link_removed = re.sub('https?://[A-Za-z0-9./]+','',user_removed)\n",
        "    # remove numbers from comment\n",
        "    number_removed = re.sub('[^a-zA-Z]', ' ', link_removed)\n",
        "    # convert all of the characters into lower space\n",
        "    lower_case_comment= number_removed.lower()\n",
        "    # spliting every comment sentence/text into words\n",
        "    tok = WordPunctTokenizer()\n",
        "    words = tok.tokenize(lower_case_comment)\n",
        "\n",
        "    # Remove all extra scpaces from words and merging them back into comment text.\n",
        "    cleaned_comment = (' '.join(words)).strip()\n",
        "\n",
        "    # return cleaned_tweet.\n",
        "    return cleaned_comment"
      ]
    },
    {
      "cell_type": "code",
      "execution_count": null,
      "metadata": {
        "id": "nnLMgHHOEGpm"
      },
      "outputs": [],
      "source": [
        "df['Cleaned Comments'] = df['Comment'].apply(clean_comments)"
      ]
    },
    {
      "cell_type": "code",
      "execution_count": null,
      "metadata": {
        "id": "O9vLKrHyEGpn",
        "outputId": "4450b294-4946-4521-b40d-470715a15a22"
      },
      "outputs": [
        {
          "data": {
            "text/html": [
              "<div>\n",
              "<style scoped>\n",
              "    .dataframe tbody tr th:only-of-type {\n",
              "        vertical-align: middle;\n",
              "    }\n",
              "\n",
              "    .dataframe tbody tr th {\n",
              "        vertical-align: top;\n",
              "    }\n",
              "\n",
              "    .dataframe thead th {\n",
              "        text-align: right;\n",
              "    }\n",
              "</style>\n",
              "<table border=\"1\" class=\"dataframe\">\n",
              "  <thead>\n",
              "    <tr style=\"text-align: right;\">\n",
              "      <th></th>\n",
              "      <th>Post Link</th>\n",
              "      <th>Username</th>\n",
              "      <th>Comment</th>\n",
              "      <th>Time</th>\n",
              "      <th>Cleaned Comments</th>\n",
              "    </tr>\n",
              "  </thead>\n",
              "  <tbody>\n",
              "    <tr>\n",
              "      <th>0</th>\n",
              "      <td>https://www.instagram.com/p/CRJ3yFxBVXG/</td>\n",
              "      <td>__darkweb90210</td>\n",
              "      <td>favorite❤️</td>\n",
              "      <td>2021-07-10T21:47:27.000Z</td>\n",
              "      <td>favorite</td>\n",
              "    </tr>\n",
              "    <tr>\n",
              "      <th>1</th>\n",
              "      <td>https://www.instagram.com/p/CRJ3yFxBVXG/</td>\n",
              "      <td>leaa.tru</td>\n",
              "      <td>u rock every fit bbyy</td>\n",
              "      <td>2021-07-10T21:47:27.000Z</td>\n",
              "      <td>u rock every fit bbyy</td>\n",
              "    </tr>\n",
              "    <tr>\n",
              "      <th>2</th>\n",
              "      <td>https://www.instagram.com/p/CRJ3yFxBVXG/</td>\n",
              "      <td>yoonyuki97</td>\n",
              "      <td>Oh my baby You're so beautiful ❤️ I Love You s...</td>\n",
              "      <td>2021-07-10T21:47:27.000Z</td>\n",
              "      <td>oh my baby you re so beautiful i love you so much</td>\n",
              "    </tr>\n",
              "    <tr>\n",
              "      <th>3</th>\n",
              "      <td>https://www.instagram.com/p/CRJ3yFxBVXG/</td>\n",
              "      <td>lahf_and_lemons</td>\n",
              "      <td>Are you all robots? And is your dog a robot too?</td>\n",
              "      <td>2021-07-10T21:47:27.000Z</td>\n",
              "      <td>are you all robots and is your dog a robot too</td>\n",
              "    </tr>\n",
              "    <tr>\n",
              "      <th>4</th>\n",
              "      <td>https://www.instagram.com/p/CRJ3yFxBVXG/</td>\n",
              "      <td>itsbrittkneemarie</td>\n",
              "      <td>That BAG 🔥😍</td>\n",
              "      <td>2021-07-10T21:47:27.000Z</td>\n",
              "      <td>that bag</td>\n",
              "    </tr>\n",
              "  </tbody>\n",
              "</table>\n",
              "</div>"
            ],
            "text/plain": [
              "                                  Post Link           Username  \\\n",
              "0  https://www.instagram.com/p/CRJ3yFxBVXG/     __darkweb90210   \n",
              "1  https://www.instagram.com/p/CRJ3yFxBVXG/           leaa.tru   \n",
              "2  https://www.instagram.com/p/CRJ3yFxBVXG/         yoonyuki97   \n",
              "3  https://www.instagram.com/p/CRJ3yFxBVXG/    lahf_and_lemons   \n",
              "4  https://www.instagram.com/p/CRJ3yFxBVXG/  itsbrittkneemarie   \n",
              "\n",
              "                                             Comment  \\\n",
              "0                                         favorite❤️   \n",
              "1                              u rock every fit bbyy   \n",
              "2  Oh my baby You're so beautiful ❤️ I Love You s...   \n",
              "3   Are you all robots? And is your dog a robot too?   \n",
              "4                                        That BAG 🔥😍   \n",
              "\n",
              "                       Time                                   Cleaned Comments  \n",
              "0  2021-07-10T21:47:27.000Z                                           favorite  \n",
              "1  2021-07-10T21:47:27.000Z                              u rock every fit bbyy  \n",
              "2  2021-07-10T21:47:27.000Z  oh my baby you re so beautiful i love you so much  \n",
              "3  2021-07-10T21:47:27.000Z     are you all robots and is your dog a robot too  \n",
              "4  2021-07-10T21:47:27.000Z                                           that bag  "
            ]
          },
          "execution_count": 78,
          "metadata": {},
          "output_type": "execute_result"
        }
      ],
      "source": [
        "df.head()"
      ]
    },
    {
      "cell_type": "code",
      "execution_count": null,
      "metadata": {
        "id": "xY4FKBiXEGpn",
        "outputId": "eec3e696-7ef3-4149-de2a-20f38d210dba"
      },
      "outputs": [
        {
          "data": {
            "text/plain": [
              "(11397, 5)"
            ]
          },
          "execution_count": 79,
          "metadata": {},
          "output_type": "execute_result"
        }
      ],
      "source": [
        "df.shape"
      ]
    },
    {
      "cell_type": "code",
      "execution_count": null,
      "metadata": {
        "id": "30ol5lsTEGpo"
      },
      "outputs": [],
      "source": [
        "# drop rows containing Cleaned Comments cell empty\n",
        "df['Cleaned Comments'].replace('', np.nan, inplace=True)\n",
        "df.dropna(subset=['Cleaned Comments'], inplace=True)"
      ]
    },
    {
      "cell_type": "code",
      "execution_count": null,
      "metadata": {
        "id": "iGR6uh8EEGpp",
        "outputId": "2abdb203-d558-43e0-e9d6-bc63964b03c1"
      },
      "outputs": [
        {
          "data": {
            "text/plain": [
              "(8956, 5)"
            ]
          },
          "execution_count": 82,
          "metadata": {},
          "output_type": "execute_result"
        }
      ],
      "source": [
        "df.shape"
      ]
    },
    {
      "cell_type": "code",
      "execution_count": null,
      "metadata": {
        "id": "Jmh8Cp6CEGpp"
      },
      "outputs": [],
      "source": [
        "df.to_csv('data/lilmiquela_Cleaned_Comments.csv', index=False)"
      ]
    },
    {
      "cell_type": "markdown",
      "metadata": {
        "id": "WXQOdglXEGpp"
      },
      "source": [
        "### Get Comment’s sentiment (Extracting Features of Cleaned Comment)"
      ]
    },
    {
      "cell_type": "code",
      "execution_count": null,
      "metadata": {
        "id": "zN9cqtAEEGpp"
      },
      "outputs": [],
      "source": [
        "# create a function to get the subjectivity of all the tweets\n",
        "def getSubjectivity(text):\n",
        "    return TextBlob(text).sentiment.subjectivity\n",
        "\n",
        "# create a function to get the Polarity of all the tweets\n",
        "def getPolarity(text):\n",
        "    return TextBlob(text).sentiment.polarity\n",
        "\n",
        "# create 2 columns 'Subjectivity' and 'Polarity'\n",
        "df['Subjectivity']= df['Cleaned Comments'].apply(getSubjectivity)\n",
        "df['Polarity']= df['Cleaned Comments'].apply(getPolarity)"
      ]
    },
    {
      "cell_type": "code",
      "execution_count": null,
      "metadata": {
        "id": "5PNWIv83EGpq",
        "outputId": "4997f5db-84f5-41b6-b9c0-05f5f2710c5e"
      },
      "outputs": [
        {
          "data": {
            "text/html": [
              "<div>\n",
              "<style scoped>\n",
              "    .dataframe tbody tr th:only-of-type {\n",
              "        vertical-align: middle;\n",
              "    }\n",
              "\n",
              "    .dataframe tbody tr th {\n",
              "        vertical-align: top;\n",
              "    }\n",
              "\n",
              "    .dataframe thead th {\n",
              "        text-align: right;\n",
              "    }\n",
              "</style>\n",
              "<table border=\"1\" class=\"dataframe\">\n",
              "  <thead>\n",
              "    <tr style=\"text-align: right;\">\n",
              "      <th></th>\n",
              "      <th>Post Link</th>\n",
              "      <th>Username</th>\n",
              "      <th>Comment</th>\n",
              "      <th>Time</th>\n",
              "      <th>Cleaned Comments</th>\n",
              "      <th>Subjectivity</th>\n",
              "      <th>Polarity</th>\n",
              "    </tr>\n",
              "  </thead>\n",
              "  <tbody>\n",
              "    <tr>\n",
              "      <th>0</th>\n",
              "      <td>https://www.instagram.com/p/CRJ3yFxBVXG/</td>\n",
              "      <td>__darkweb90210</td>\n",
              "      <td>favorite❤️</td>\n",
              "      <td>2021-07-10T21:47:27.000Z</td>\n",
              "      <td>favorite</td>\n",
              "      <td>1.0</td>\n",
              "      <td>0.500000</td>\n",
              "    </tr>\n",
              "    <tr>\n",
              "      <th>1</th>\n",
              "      <td>https://www.instagram.com/p/CRJ3yFxBVXG/</td>\n",
              "      <td>leaa.tru</td>\n",
              "      <td>u rock every fit bbyy</td>\n",
              "      <td>2021-07-10T21:47:27.000Z</td>\n",
              "      <td>u rock every fit bbyy</td>\n",
              "      <td>0.4</td>\n",
              "      <td>0.400000</td>\n",
              "    </tr>\n",
              "    <tr>\n",
              "      <th>2</th>\n",
              "      <td>https://www.instagram.com/p/CRJ3yFxBVXG/</td>\n",
              "      <td>yoonyuki97</td>\n",
              "      <td>Oh my baby You're so beautiful ❤️ I Love You s...</td>\n",
              "      <td>2021-07-10T21:47:27.000Z</td>\n",
              "      <td>oh my baby you re so beautiful i love you so much</td>\n",
              "      <td>0.6</td>\n",
              "      <td>0.516667</td>\n",
              "    </tr>\n",
              "    <tr>\n",
              "      <th>3</th>\n",
              "      <td>https://www.instagram.com/p/CRJ3yFxBVXG/</td>\n",
              "      <td>lahf_and_lemons</td>\n",
              "      <td>Are you all robots? And is your dog a robot too?</td>\n",
              "      <td>2021-07-10T21:47:27.000Z</td>\n",
              "      <td>are you all robots and is your dog a robot too</td>\n",
              "      <td>0.0</td>\n",
              "      <td>0.000000</td>\n",
              "    </tr>\n",
              "    <tr>\n",
              "      <th>4</th>\n",
              "      <td>https://www.instagram.com/p/CRJ3yFxBVXG/</td>\n",
              "      <td>itsbrittkneemarie</td>\n",
              "      <td>That BAG 🔥😍</td>\n",
              "      <td>2021-07-10T21:47:27.000Z</td>\n",
              "      <td>that bag</td>\n",
              "      <td>0.0</td>\n",
              "      <td>0.000000</td>\n",
              "    </tr>\n",
              "  </tbody>\n",
              "</table>\n",
              "</div>"
            ],
            "text/plain": [
              "                                  Post Link           Username  \\\n",
              "0  https://www.instagram.com/p/CRJ3yFxBVXG/     __darkweb90210   \n",
              "1  https://www.instagram.com/p/CRJ3yFxBVXG/           leaa.tru   \n",
              "2  https://www.instagram.com/p/CRJ3yFxBVXG/         yoonyuki97   \n",
              "3  https://www.instagram.com/p/CRJ3yFxBVXG/    lahf_and_lemons   \n",
              "4  https://www.instagram.com/p/CRJ3yFxBVXG/  itsbrittkneemarie   \n",
              "\n",
              "                                             Comment  \\\n",
              "0                                         favorite❤️   \n",
              "1                              u rock every fit bbyy   \n",
              "2  Oh my baby You're so beautiful ❤️ I Love You s...   \n",
              "3   Are you all robots? And is your dog a robot too?   \n",
              "4                                        That BAG 🔥😍   \n",
              "\n",
              "                       Time  \\\n",
              "0  2021-07-10T21:47:27.000Z   \n",
              "1  2021-07-10T21:47:27.000Z   \n",
              "2  2021-07-10T21:47:27.000Z   \n",
              "3  2021-07-10T21:47:27.000Z   \n",
              "4  2021-07-10T21:47:27.000Z   \n",
              "\n",
              "                                    Cleaned Comments  Subjectivity  Polarity  \n",
              "0                                           favorite           1.0  0.500000  \n",
              "1                              u rock every fit bbyy           0.4  0.400000  \n",
              "2  oh my baby you re so beautiful i love you so much           0.6  0.516667  \n",
              "3     are you all robots and is your dog a robot too           0.0  0.000000  \n",
              "4                                           that bag           0.0  0.000000  "
            ]
          },
          "execution_count": 85,
          "metadata": {},
          "output_type": "execute_result"
        }
      ],
      "source": [
        "df.head()"
      ]
    },
    {
      "cell_type": "code",
      "execution_count": null,
      "metadata": {
        "id": "kALVAnPmEGpq"
      },
      "outputs": [],
      "source": [
        "# Compute negative, neutral and positive sentiments based on their scores\n",
        "def getAnalysis(score):\n",
        "    if score < 0:\n",
        "        return 'Negative'\n",
        "    elif score == 0:\n",
        "        return 'Neutral'\n",
        "    else:\n",
        "        return 'Positive'"
      ]
    },
    {
      "cell_type": "code",
      "execution_count": null,
      "metadata": {
        "id": "oZRMLAJVEGpq"
      },
      "outputs": [],
      "source": [
        "df['Sentiment'] = df['Polarity'].apply(getAnalysis)"
      ]
    },
    {
      "cell_type": "code",
      "execution_count": null,
      "metadata": {
        "id": "aI_Sy4cHEGpq",
        "outputId": "d0540a7d-6d65-4fbb-d527-35ffd902f33a"
      },
      "outputs": [
        {
          "data": {
            "text/plain": [
              "Neutral     6437\n",
              "Positive    1751\n",
              "Negative     768\n",
              "Name: Sentiment, dtype: int64"
            ]
          },
          "execution_count": 88,
          "metadata": {},
          "output_type": "execute_result"
        }
      ],
      "source": [
        "df['Sentiment'].value_counts()"
      ]
    },
    {
      "cell_type": "code",
      "execution_count": null,
      "metadata": {
        "id": "Q9CeYTHcEGpq",
        "outputId": "50df4f4b-3dfb-45ca-c8ff-2305353e286d"
      },
      "outputs": [
        {
          "data": {
            "image/png": "[encoded data removed]",
            "text/plain": [
              "<Figure size 432x288 with 1 Axes>"
            ]
          },
          "metadata": {},
          "output_type": "display_data"
        }
      ],
      "source": [
        "df['Sentiment'].value_counts().plot(kind='bar')\n",
        "plt.title(\"Sentiment Analysis\")\n",
        "plt.xlabel('Polarity')\n",
        "plt.ylabel('Count')\n",
        "plt.show()"
      ]
    },
    {
      "cell_type": "markdown",
      "metadata": {
        "id": "74i9cx4-EGpq"
      },
      "source": [
        "### Saving Scraped Comments into CSV"
      ]
    },
    {
      "cell_type": "code",
      "execution_count": null,
      "metadata": {
        "id": "Y1Up_tBQEGpq"
      },
      "outputs": [],
      "source": [
        "df.to_csv('data/lilmiquela_Comments_Sentiment_Analysis.csv', index=False)"
      ]
    },
    {
      "cell_type": "markdown",
      "metadata": {
        "id": "SF16_7XnEGpq"
      },
      "source": [
        "### Handle Imbalanced Dataset"
      ]
    },
    {
      "cell_type": "code",
      "execution_count": null,
      "metadata": {
        "id": "D73I8jjKEGpr"
      },
      "outputs": [],
      "source": [
        "df_positive_comments = df[df['Sentiment']=='Positive'][:800]"
      ]
    },
    {
      "cell_type": "code",
      "execution_count": null,
      "metadata": {
        "id": "IjXqbEA9EGpr",
        "outputId": "1a5344da-68f1-43fe-abd7-c8b49f8becc3"
      },
      "outputs": [
        {
          "data": {
            "text/plain": [
              "(800, 8)"
            ]
          },
          "execution_count": 92,
          "metadata": {},
          "output_type": "execute_result"
        }
      ],
      "source": [
        "df_positive_comments.shape"
      ]
    },
    {
      "cell_type": "code",
      "execution_count": null,
      "metadata": {
        "id": "suMY7PMbEGpr"
      },
      "outputs": [],
      "source": [
        "df_negative_comments = df[df['Sentiment']=='Negative']"
      ]
    },
    {
      "cell_type": "code",
      "execution_count": null,
      "metadata": {
        "id": "vDQ4ZwjnEGpr",
        "outputId": "e553dedc-ae20-4585-bf9a-2f2765633aca"
      },
      "outputs": [
        {
          "data": {
            "text/plain": [
              "(768, 8)"
            ]
          },
          "execution_count": 94,
          "metadata": {},
          "output_type": "execute_result"
        }
      ],
      "source": [
        "df_negative_comments.shape"
      ]
    },
    {
      "cell_type": "code",
      "execution_count": null,
      "metadata": {
        "id": "WS6AVGOYEGpr"
      },
      "outputs": [],
      "source": [
        "# balanced dataset\n",
        "balanced_df = df_positive_comments.append(df_negative_comments)"
      ]
    },
    {
      "cell_type": "code",
      "execution_count": null,
      "metadata": {
        "id": "wT4CuOjqEGpr",
        "outputId": "fa904b95-6a7f-4937-b6a3-5792b893bb84"
      },
      "outputs": [
        {
          "data": {
            "text/plain": [
              "(1568, 8)"
            ]
          },
          "execution_count": 96,
          "metadata": {},
          "output_type": "execute_result"
        }
      ],
      "source": [
        "balanced_df.shape"
      ]
    },
    {
      "cell_type": "code",
      "execution_count": null,
      "metadata": {
        "id": "ci500nyyEGpr",
        "outputId": "f6bbe447-3f52-4a94-b0bf-c218a59d259c"
      },
      "outputs": [
        {
          "data": {
            "text/html": [
              "<div>\n",
              "<style scoped>\n",
              "    .dataframe tbody tr th:only-of-type {\n",
              "        vertical-align: middle;\n",
              "    }\n",
              "\n",
              "    .dataframe tbody tr th {\n",
              "        vertical-align: top;\n",
              "    }\n",
              "\n",
              "    .dataframe thead th {\n",
              "        text-align: right;\n",
              "    }\n",
              "</style>\n",
              "<table border=\"1\" class=\"dataframe\">\n",
              "  <thead>\n",
              "    <tr style=\"text-align: right;\">\n",
              "      <th></th>\n",
              "      <th>Post Link</th>\n",
              "      <th>Username</th>\n",
              "      <th>Comment</th>\n",
              "      <th>Time</th>\n",
              "      <th>Cleaned Comments</th>\n",
              "      <th>Subjectivity</th>\n",
              "      <th>Polarity</th>\n",
              "      <th>Sentiment</th>\n",
              "    </tr>\n",
              "  </thead>\n",
              "  <tbody>\n",
              "    <tr>\n",
              "      <th>0</th>\n",
              "      <td>https://www.instagram.com/p/CRJ3yFxBVXG/</td>\n",
              "      <td>__darkweb90210</td>\n",
              "      <td>favorite❤️</td>\n",
              "      <td>2021-07-10T21:47:27.000Z</td>\n",
              "      <td>favorite</td>\n",
              "      <td>1.0</td>\n",
              "      <td>0.500000</td>\n",
              "      <td>Positive</td>\n",
              "    </tr>\n",
              "    <tr>\n",
              "      <th>1</th>\n",
              "      <td>https://www.instagram.com/p/CRJ3yFxBVXG/</td>\n",
              "      <td>leaa.tru</td>\n",
              "      <td>u rock every fit bbyy</td>\n",
              "      <td>2021-07-10T21:47:27.000Z</td>\n",
              "      <td>u rock every fit bbyy</td>\n",
              "      <td>0.4</td>\n",
              "      <td>0.400000</td>\n",
              "      <td>Positive</td>\n",
              "    </tr>\n",
              "    <tr>\n",
              "      <th>2</th>\n",
              "      <td>https://www.instagram.com/p/CRJ3yFxBVXG/</td>\n",
              "      <td>yoonyuki97</td>\n",
              "      <td>Oh my baby You're so beautiful ❤️ I Love You s...</td>\n",
              "      <td>2021-07-10T21:47:27.000Z</td>\n",
              "      <td>oh my baby you re so beautiful i love you so much</td>\n",
              "      <td>0.6</td>\n",
              "      <td>0.516667</td>\n",
              "      <td>Positive</td>\n",
              "    </tr>\n",
              "    <tr>\n",
              "      <th>6</th>\n",
              "      <td>https://www.instagram.com/p/CRJ3yFxBVXG/</td>\n",
              "      <td>anasophia.10_2007</td>\n",
              "      <td>You are looking really pretty😍😍😍</td>\n",
              "      <td>2021-07-10T21:47:27.000Z</td>\n",
              "      <td>you are looking really pretty</td>\n",
              "      <td>1.0</td>\n",
              "      <td>0.250000</td>\n",
              "      <td>Positive</td>\n",
              "    </tr>\n",
              "    <tr>\n",
              "      <th>7</th>\n",
              "      <td>https://www.instagram.com/p/CRJ3yFxBVXG/</td>\n",
              "      <td>simone56769</td>\n",
              "      <td>Wow babe the look good</td>\n",
              "      <td>2021-07-10T21:47:27.000Z</td>\n",
              "      <td>wow babe the look good</td>\n",
              "      <td>0.8</td>\n",
              "      <td>0.400000</td>\n",
              "      <td>Positive</td>\n",
              "    </tr>\n",
              "  </tbody>\n",
              "</table>\n",
              "</div>"
            ],
            "text/plain": [
              "                                  Post Link           Username  \\\n",
              "0  https://www.instagram.com/p/CRJ3yFxBVXG/     __darkweb90210   \n",
              "1  https://www.instagram.com/p/CRJ3yFxBVXG/           leaa.tru   \n",
              "2  https://www.instagram.com/p/CRJ3yFxBVXG/         yoonyuki97   \n",
              "6  https://www.instagram.com/p/CRJ3yFxBVXG/  anasophia.10_2007   \n",
              "7  https://www.instagram.com/p/CRJ3yFxBVXG/        simone56769   \n",
              "\n",
              "                                             Comment  \\\n",
              "0                                         favorite❤️   \n",
              "1                              u rock every fit bbyy   \n",
              "2  Oh my baby You're so beautiful ❤️ I Love You s...   \n",
              "6                   You are looking really pretty😍😍😍   \n",
              "7                             Wow babe the look good   \n",
              "\n",
              "                       Time  \\\n",
              "0  2021-07-10T21:47:27.000Z   \n",
              "1  2021-07-10T21:47:27.000Z   \n",
              "2  2021-07-10T21:47:27.000Z   \n",
              "6  2021-07-10T21:47:27.000Z   \n",
              "7  2021-07-10T21:47:27.000Z   \n",
              "\n",
              "                                    Cleaned Comments  Subjectivity  Polarity  \\\n",
              "0                                           favorite           1.0  0.500000   \n",
              "1                              u rock every fit bbyy           0.4  0.400000   \n",
              "2  oh my baby you re so beautiful i love you so much           0.6  0.516667   \n",
              "6                      you are looking really pretty           1.0  0.250000   \n",
              "7                             wow babe the look good           0.8  0.400000   \n",
              "\n",
              "  Sentiment  \n",
              "0  Positive  \n",
              "1  Positive  \n",
              "2  Positive  \n",
              "6  Positive  \n",
              "7  Positive  "
            ]
          },
          "execution_count": 97,
          "metadata": {},
          "output_type": "execute_result"
        }
      ],
      "source": [
        "balanced_df.head()"
      ]
    },
    {
      "cell_type": "code",
      "execution_count": null,
      "metadata": {
        "id": "jYq2C99iEGpr"
      },
      "outputs": [],
      "source": [
        "import sklearn.utils\n",
        "\n",
        "# shuffling dataframe randomly\n",
        "balanced_df = sklearn.utils.shuffle(balanced_df)"
      ]
    },
    {
      "cell_type": "code",
      "execution_count": null,
      "metadata": {
        "id": "K-lA2mGEEGps",
        "outputId": "579fd6f9-5198-4125-b523-60f672a1b2aa"
      },
      "outputs": [
        {
          "data": {
            "text/html": [
              "<div>\n",
              "<style scoped>\n",
              "    .dataframe tbody tr th:only-of-type {\n",
              "        vertical-align: middle;\n",
              "    }\n",
              "\n",
              "    .dataframe tbody tr th {\n",
              "        vertical-align: top;\n",
              "    }\n",
              "\n",
              "    .dataframe thead th {\n",
              "        text-align: right;\n",
              "    }\n",
              "</style>\n",
              "<table border=\"1\" class=\"dataframe\">\n",
              "  <thead>\n",
              "    <tr style=\"text-align: right;\">\n",
              "      <th></th>\n",
              "      <th>Post Link</th>\n",
              "      <th>Username</th>\n",
              "      <th>Comment</th>\n",
              "      <th>Time</th>\n",
              "      <th>Cleaned Comments</th>\n",
              "      <th>Subjectivity</th>\n",
              "      <th>Polarity</th>\n",
              "      <th>Sentiment</th>\n",
              "    </tr>\n",
              "  </thead>\n",
              "  <tbody>\n",
              "    <tr>\n",
              "      <th>10356</th>\n",
              "      <td>https://www.instagram.com/p/BjQoiAYF-Mk/</td>\n",
              "      <td>sksisusnshsishysisydisysishs</td>\n",
              "      <td>Another FUCKING ROBOT</td>\n",
              "      <td>2018-08-18T00:28:23.000Z</td>\n",
              "      <td>another fucking robot</td>\n",
              "      <td>0.800000</td>\n",
              "      <td>-0.600000</td>\n",
              "      <td>Negative</td>\n",
              "    </tr>\n",
              "    <tr>\n",
              "      <th>9239</th>\n",
              "      <td>https://www.instagram.com/p/Bn2UJBFFjeS/</td>\n",
              "      <td>anayarose._</td>\n",
              "      <td>How you go from pink hair to brown?</td>\n",
              "      <td>2018-11-02T16:12:46.000Z</td>\n",
              "      <td>how you go from pink hair to brown</td>\n",
              "      <td>0.300000</td>\n",
              "      <td>-0.100000</td>\n",
              "      <td>Negative</td>\n",
              "    </tr>\n",
              "    <tr>\n",
              "      <th>9507</th>\n",
              "      <td>https://www.instagram.com/p/BmlxL_3F0NZ/</td>\n",
              "      <td>ttamara.h</td>\n",
              "      <td>What the fuck</td>\n",
              "      <td>2019-03-02T21:25:38.000Z</td>\n",
              "      <td>what the fuck</td>\n",
              "      <td>0.600000</td>\n",
              "      <td>-0.400000</td>\n",
              "      <td>Negative</td>\n",
              "    </tr>\n",
              "    <tr>\n",
              "      <th>507</th>\n",
              "      <td>https://www.instagram.com/p/CMkKf4vnR41/</td>\n",
              "      <td>khalil_shahzad6</td>\n",
              "      <td>you don't know how it tastes, right?</td>\n",
              "      <td>2021-04-15T07:31:47.000Z</td>\n",
              "      <td>you don t know how it tastes right</td>\n",
              "      <td>0.535714</td>\n",
              "      <td>0.285714</td>\n",
              "      <td>Positive</td>\n",
              "    </tr>\n",
              "    <tr>\n",
              "      <th>6330</th>\n",
              "      <td>https://www.instagram.com/p/B0M17Kfn0RC/</td>\n",
              "      <td>pikatato_98</td>\n",
              "      <td>That awkward moment when your thumb phases thr...</td>\n",
              "      <td>2019-08-17T00:18:56.000Z</td>\n",
              "      <td>that awkward moment when your thumb phases thr...</td>\n",
              "      <td>1.000000</td>\n",
              "      <td>-0.600000</td>\n",
              "      <td>Negative</td>\n",
              "    </tr>\n",
              "  </tbody>\n",
              "</table>\n",
              "</div>"
            ],
            "text/plain": [
              "                                      Post Link                      Username  \\\n",
              "10356  https://www.instagram.com/p/BjQoiAYF-Mk/  sksisusnshsishysisydisysishs   \n",
              "9239   https://www.instagram.com/p/Bn2UJBFFjeS/                   anayarose._   \n",
              "9507   https://www.instagram.com/p/BmlxL_3F0NZ/                     ttamara.h   \n",
              "507    https://www.instagram.com/p/CMkKf4vnR41/               khalil_shahzad6   \n",
              "6330   https://www.instagram.com/p/B0M17Kfn0RC/                   pikatato_98   \n",
              "\n",
              "                                                 Comment  \\\n",
              "10356                              Another FUCKING ROBOT   \n",
              "9239                 How you go from pink hair to brown?   \n",
              "9507                                       What the fuck   \n",
              "507                 you don't know how it tastes, right?   \n",
              "6330   That awkward moment when your thumb phases thr...   \n",
              "\n",
              "                           Time  \\\n",
              "10356  2018-08-18T00:28:23.000Z   \n",
              "9239   2018-11-02T16:12:46.000Z   \n",
              "9507   2019-03-02T21:25:38.000Z   \n",
              "507    2021-04-15T07:31:47.000Z   \n",
              "6330   2019-08-17T00:18:56.000Z   \n",
              "\n",
              "                                        Cleaned Comments  Subjectivity  \\\n",
              "10356                              another fucking robot      0.800000   \n",
              "9239                  how you go from pink hair to brown      0.300000   \n",
              "9507                                       what the fuck      0.600000   \n",
              "507                   you don t know how it tastes right      0.535714   \n",
              "6330   that awkward moment when your thumb phases thr...      1.000000   \n",
              "\n",
              "       Polarity Sentiment  \n",
              "10356 -0.600000  Negative  \n",
              "9239  -0.100000  Negative  \n",
              "9507  -0.400000  Negative  \n",
              "507    0.285714  Positive  \n",
              "6330  -0.600000  Negative  "
            ]
          },
          "execution_count": 99,
          "metadata": {},
          "output_type": "execute_result"
        }
      ],
      "source": [
        "balanced_df.head()"
      ]
    },
    {
      "cell_type": "markdown",
      "metadata": {
        "id": "EubeV-oGEGps"
      },
      "source": [
        "### Comments Classifier"
      ]
    },
    {
      "cell_type": "code",
      "execution_count": null,
      "metadata": {
        "id": "u2FgqpEMEGps"
      },
      "outputs": [],
      "source": [
        "#tokenizing cleaned text for vectorizing\n",
        "balanced_df[\"Tokenized\"]=balanced_df['Cleaned Comments'].apply(lambda x : nltk.word_tokenize(x))"
      ]
    },
    {
      "cell_type": "code",
      "execution_count": null,
      "metadata": {
        "id": "ev2bUb1vEGps",
        "outputId": "180dedf7-7539-4b68-91fd-2e5a824ee664"
      },
      "outputs": [
        {
          "data": {
            "text/html": [
              "<div>\n",
              "<style scoped>\n",
              "    .dataframe tbody tr th:only-of-type {\n",
              "        vertical-align: middle;\n",
              "    }\n",
              "\n",
              "    .dataframe tbody tr th {\n",
              "        vertical-align: top;\n",
              "    }\n",
              "\n",
              "    .dataframe thead th {\n",
              "        text-align: right;\n",
              "    }\n",
              "</style>\n",
              "<table border=\"1\" class=\"dataframe\">\n",
              "  <thead>\n",
              "    <tr style=\"text-align: right;\">\n",
              "      <th></th>\n",
              "      <th>Post Link</th>\n",
              "      <th>Username</th>\n",
              "      <th>Comment</th>\n",
              "      <th>Time</th>\n",
              "      <th>Cleaned Comments</th>\n",
              "      <th>Subjectivity</th>\n",
              "      <th>Polarity</th>\n",
              "      <th>Sentiment</th>\n",
              "      <th>Tokenized</th>\n",
              "    </tr>\n",
              "  </thead>\n",
              "  <tbody>\n",
              "    <tr>\n",
              "      <th>10356</th>\n",
              "      <td>https://www.instagram.com/p/BjQoiAYF-Mk/</td>\n",
              "      <td>sksisusnshsishysisydisysishs</td>\n",
              "      <td>Another FUCKING ROBOT</td>\n",
              "      <td>2018-08-18T00:28:23.000Z</td>\n",
              "      <td>another fucking robot</td>\n",
              "      <td>0.800000</td>\n",
              "      <td>-0.600000</td>\n",
              "      <td>Negative</td>\n",
              "      <td>[another, fucking, robot]</td>\n",
              "    </tr>\n",
              "    <tr>\n",
              "      <th>9239</th>\n",
              "      <td>https://www.instagram.com/p/Bn2UJBFFjeS/</td>\n",
              "      <td>anayarose._</td>\n",
              "      <td>How you go from pink hair to brown?</td>\n",
              "      <td>2018-11-02T16:12:46.000Z</td>\n",
              "      <td>how you go from pink hair to brown</td>\n",
              "      <td>0.300000</td>\n",
              "      <td>-0.100000</td>\n",
              "      <td>Negative</td>\n",
              "      <td>[how, you, go, from, pink, hair, to, brown]</td>\n",
              "    </tr>\n",
              "    <tr>\n",
              "      <th>9507</th>\n",
              "      <td>https://www.instagram.com/p/BmlxL_3F0NZ/</td>\n",
              "      <td>ttamara.h</td>\n",
              "      <td>What the fuck</td>\n",
              "      <td>2019-03-02T21:25:38.000Z</td>\n",
              "      <td>what the fuck</td>\n",
              "      <td>0.600000</td>\n",
              "      <td>-0.400000</td>\n",
              "      <td>Negative</td>\n",
              "      <td>[what, the, fuck]</td>\n",
              "    </tr>\n",
              "    <tr>\n",
              "      <th>507</th>\n",
              "      <td>https://www.instagram.com/p/CMkKf4vnR41/</td>\n",
              "      <td>khalil_shahzad6</td>\n",
              "      <td>you don't know how it tastes, right?</td>\n",
              "      <td>2021-04-15T07:31:47.000Z</td>\n",
              "      <td>you don t know how it tastes right</td>\n",
              "      <td>0.535714</td>\n",
              "      <td>0.285714</td>\n",
              "      <td>Positive</td>\n",
              "      <td>[you, don, t, know, how, it, tastes, right]</td>\n",
              "    </tr>\n",
              "    <tr>\n",
              "      <th>6330</th>\n",
              "      <td>https://www.instagram.com/p/B0M17Kfn0RC/</td>\n",
              "      <td>pikatato_98</td>\n",
              "      <td>That awkward moment when your thumb phases thr...</td>\n",
              "      <td>2019-08-17T00:18:56.000Z</td>\n",
              "      <td>that awkward moment when your thumb phases thr...</td>\n",
              "      <td>1.000000</td>\n",
              "      <td>-0.600000</td>\n",
              "      <td>Negative</td>\n",
              "      <td>[that, awkward, moment, when, your, thumb, pha...</td>\n",
              "    </tr>\n",
              "  </tbody>\n",
              "</table>\n",
              "</div>"
            ],
            "text/plain": [
              "                                      Post Link                      Username  \\\n",
              "10356  https://www.instagram.com/p/BjQoiAYF-Mk/  sksisusnshsishysisydisysishs   \n",
              "9239   https://www.instagram.com/p/Bn2UJBFFjeS/                   anayarose._   \n",
              "9507   https://www.instagram.com/p/BmlxL_3F0NZ/                     ttamara.h   \n",
              "507    https://www.instagram.com/p/CMkKf4vnR41/               khalil_shahzad6   \n",
              "6330   https://www.instagram.com/p/B0M17Kfn0RC/                   pikatato_98   \n",
              "\n",
              "                                                 Comment  \\\n",
              "10356                              Another FUCKING ROBOT   \n",
              "9239                 How you go from pink hair to brown?   \n",
              "9507                                       What the fuck   \n",
              "507                 you don't know how it tastes, right?   \n",
              "6330   That awkward moment when your thumb phases thr...   \n",
              "\n",
              "                           Time  \\\n",
              "10356  2018-08-18T00:28:23.000Z   \n",
              "9239   2018-11-02T16:12:46.000Z   \n",
              "9507   2019-03-02T21:25:38.000Z   \n",
              "507    2021-04-15T07:31:47.000Z   \n",
              "6330   2019-08-17T00:18:56.000Z   \n",
              "\n",
              "                                        Cleaned Comments  Subjectivity  \\\n",
              "10356                              another fucking robot      0.800000   \n",
              "9239                  how you go from pink hair to brown      0.300000   \n",
              "9507                                       what the fuck      0.600000   \n",
              "507                   you don t know how it tastes right      0.535714   \n",
              "6330   that awkward moment when your thumb phases thr...      1.000000   \n",
              "\n",
              "       Polarity Sentiment                                          Tokenized  \n",
              "10356 -0.600000  Negative                          [another, fucking, robot]  \n",
              "9239  -0.100000  Negative        [how, you, go, from, pink, hair, to, brown]  \n",
              "9507  -0.400000  Negative                                  [what, the, fuck]  \n",
              "507    0.285714  Positive        [you, don, t, know, how, it, tastes, right]  \n",
              "6330  -0.600000  Negative  [that, awkward, moment, when, your, thumb, pha...  "
            ]
          },
          "execution_count": 101,
          "metadata": {},
          "output_type": "execute_result"
        }
      ],
      "source": [
        "balanced_df.head()"
      ]
    },
    {
      "cell_type": "code",
      "execution_count": null,
      "metadata": {
        "id": "6Hv_xlVgEGps"
      },
      "outputs": [],
      "source": [
        "# replacing Sentiment Values (Positive, Negative) with 1 and 0 respectively\n",
        "balanced_df['Sentiment'] = balanced_df['Sentiment'].replace(['Positive'], 1)\n",
        "balanced_df['Sentiment'] = balanced_df['Sentiment'].replace(['Negative'], 0)"
      ]
    },
    {
      "cell_type": "code",
      "execution_count": null,
      "metadata": {
        "id": "2y3Kf8IKEGps",
        "outputId": "d31c413b-d858-44df-88f3-a4fa5bb7ff0f"
      },
      "outputs": [
        {
          "data": {
            "text/html": [
              "<div>\n",
              "<style scoped>\n",
              "    .dataframe tbody tr th:only-of-type {\n",
              "        vertical-align: middle;\n",
              "    }\n",
              "\n",
              "    .dataframe tbody tr th {\n",
              "        vertical-align: top;\n",
              "    }\n",
              "\n",
              "    .dataframe thead th {\n",
              "        text-align: right;\n",
              "    }\n",
              "</style>\n",
              "<table border=\"1\" class=\"dataframe\">\n",
              "  <thead>\n",
              "    <tr style=\"text-align: right;\">\n",
              "      <th></th>\n",
              "      <th>Post Link</th>\n",
              "      <th>Username</th>\n",
              "      <th>Comment</th>\n",
              "      <th>Time</th>\n",
              "      <th>Cleaned Comments</th>\n",
              "      <th>Subjectivity</th>\n",
              "      <th>Polarity</th>\n",
              "      <th>Sentiment</th>\n",
              "      <th>Tokenized</th>\n",
              "    </tr>\n",
              "  </thead>\n",
              "  <tbody>\n",
              "    <tr>\n",
              "      <th>10356</th>\n",
              "      <td>https://www.instagram.com/p/BjQoiAYF-Mk/</td>\n",
              "      <td>sksisusnshsishysisydisysishs</td>\n",
              "      <td>Another FUCKING ROBOT</td>\n",
              "      <td>2018-08-18T00:28:23.000Z</td>\n",
              "      <td>another fucking robot</td>\n",
              "      <td>0.800000</td>\n",
              "      <td>-0.600000</td>\n",
              "      <td>0</td>\n",
              "      <td>[another, fucking, robot]</td>\n",
              "    </tr>\n",
              "    <tr>\n",
              "      <th>9239</th>\n",
              "      <td>https://www.instagram.com/p/Bn2UJBFFjeS/</td>\n",
              "      <td>anayarose._</td>\n",
              "      <td>How you go from pink hair to brown?</td>\n",
              "      <td>2018-11-02T16:12:46.000Z</td>\n",
              "      <td>how you go from pink hair to brown</td>\n",
              "      <td>0.300000</td>\n",
              "      <td>-0.100000</td>\n",
              "      <td>0</td>\n",
              "      <td>[how, you, go, from, pink, hair, to, brown]</td>\n",
              "    </tr>\n",
              "    <tr>\n",
              "      <th>9507</th>\n",
              "      <td>https://www.instagram.com/p/BmlxL_3F0NZ/</td>\n",
              "      <td>ttamara.h</td>\n",
              "      <td>What the fuck</td>\n",
              "      <td>2019-03-02T21:25:38.000Z</td>\n",
              "      <td>what the fuck</td>\n",
              "      <td>0.600000</td>\n",
              "      <td>-0.400000</td>\n",
              "      <td>0</td>\n",
              "      <td>[what, the, fuck]</td>\n",
              "    </tr>\n",
              "    <tr>\n",
              "      <th>507</th>\n",
              "      <td>https://www.instagram.com/p/CMkKf4vnR41/</td>\n",
              "      <td>khalil_shahzad6</td>\n",
              "      <td>you don't know how it tastes, right?</td>\n",
              "      <td>2021-04-15T07:31:47.000Z</td>\n",
              "      <td>you don t know how it tastes right</td>\n",
              "      <td>0.535714</td>\n",
              "      <td>0.285714</td>\n",
              "      <td>1</td>\n",
              "      <td>[you, don, t, know, how, it, tastes, right]</td>\n",
              "    </tr>\n",
              "    <tr>\n",
              "      <th>6330</th>\n",
              "      <td>https://www.instagram.com/p/B0M17Kfn0RC/</td>\n",
              "      <td>pikatato_98</td>\n",
              "      <td>That awkward moment when your thumb phases thr...</td>\n",
              "      <td>2019-08-17T00:18:56.000Z</td>\n",
              "      <td>that awkward moment when your thumb phases thr...</td>\n",
              "      <td>1.000000</td>\n",
              "      <td>-0.600000</td>\n",
              "      <td>0</td>\n",
              "      <td>[that, awkward, moment, when, your, thumb, pha...</td>\n",
              "    </tr>\n",
              "  </tbody>\n",
              "</table>\n",
              "</div>"
            ],
            "text/plain": [
              "                                      Post Link                      Username  \\\n",
              "10356  https://www.instagram.com/p/BjQoiAYF-Mk/  sksisusnshsishysisydisysishs   \n",
              "9239   https://www.instagram.com/p/Bn2UJBFFjeS/                   anayarose._   \n",
              "9507   https://www.instagram.com/p/BmlxL_3F0NZ/                     ttamara.h   \n",
              "507    https://www.instagram.com/p/CMkKf4vnR41/               khalil_shahzad6   \n",
              "6330   https://www.instagram.com/p/B0M17Kfn0RC/                   pikatato_98   \n",
              "\n",
              "                                                 Comment  \\\n",
              "10356                              Another FUCKING ROBOT   \n",
              "9239                 How you go from pink hair to brown?   \n",
              "9507                                       What the fuck   \n",
              "507                 you don't know how it tastes, right?   \n",
              "6330   That awkward moment when your thumb phases thr...   \n",
              "\n",
              "                           Time  \\\n",
              "10356  2018-08-18T00:28:23.000Z   \n",
              "9239   2018-11-02T16:12:46.000Z   \n",
              "9507   2019-03-02T21:25:38.000Z   \n",
              "507    2021-04-15T07:31:47.000Z   \n",
              "6330   2019-08-17T00:18:56.000Z   \n",
              "\n",
              "                                        Cleaned Comments  Subjectivity  \\\n",
              "10356                              another fucking robot      0.800000   \n",
              "9239                  how you go from pink hair to brown      0.300000   \n",
              "9507                                       what the fuck      0.600000   \n",
              "507                   you don t know how it tastes right      0.535714   \n",
              "6330   that awkward moment when your thumb phases thr...      1.000000   \n",
              "\n",
              "       Polarity  Sentiment                                          Tokenized  \n",
              "10356 -0.600000          0                          [another, fucking, robot]  \n",
              "9239  -0.100000          0        [how, you, go, from, pink, hair, to, brown]  \n",
              "9507  -0.400000          0                                  [what, the, fuck]  \n",
              "507    0.285714          1        [you, don, t, know, how, it, tastes, right]  \n",
              "6330  -0.600000          0  [that, awkward, moment, when, your, thumb, pha...  "
            ]
          },
          "execution_count": 103,
          "metadata": {},
          "output_type": "execute_result"
        }
      ],
      "source": [
        "balanced_df.head()"
      ]
    },
    {
      "cell_type": "code",
      "execution_count": null,
      "metadata": {
        "id": "WRgzC86uEGps"
      },
      "outputs": [],
      "source": [
        "from sklearn.model_selection import train_test_split\n",
        "\n",
        "# splitting dataset into train and test\n",
        "np.random.seed(24)\n",
        "X_train, X_test, y_train, y_test = train_test_split(balanced_df['Cleaned Comments'], balanced_df['Sentiment'], test_size=0.2)"
      ]
    },
    {
      "cell_type": "markdown",
      "metadata": {
        "id": "4zT_XPOFEGps"
      },
      "source": [
        "#### Using TF-IDF Vectorizer"
      ]
    },
    {
      "cell_type": "code",
      "execution_count": null,
      "metadata": {
        "id": "cVqBMXRqEGps"
      },
      "outputs": [],
      "source": [
        "from sklearn.feature_extraction.text import TfidfVectorizer\n",
        "\n",
        "tfidf_vect = TfidfVectorizer()\n",
        "tfidf_vect.fit(X_train)\n",
        "X_train_vect = tfidf_vect.transform(X_train)\n",
        "X_test_vect = tfidf_vect.transform(X_test)"
      ]
    },
    {
      "cell_type": "code",
      "execution_count": null,
      "metadata": {
        "id": "XXMhORmaEGpz",
        "outputId": "8ba94f3f-01bc-46f9-861c-70f844330710"
      },
      "outputs": [
        {
          "data": {
            "text/plain": [
              "(314, 1980)"
            ]
          },
          "execution_count": 107,
          "metadata": {},
          "output_type": "execute_result"
        }
      ],
      "source": [
        "X_test_vect.shape"
      ]
    },
    {
      "cell_type": "markdown",
      "metadata": {
        "id": "cPfnWu29EGpz"
      },
      "source": [
        "#### 1- Logistic Regression"
      ]
    },
    {
      "cell_type": "code",
      "execution_count": null,
      "metadata": {
        "id": "oohb8t_kEGpz"
      },
      "outputs": [],
      "source": [
        "from sklearn.linear_model import LogisticRegression\n",
        "\n",
        "#Linear Model\n",
        "LR = LogisticRegression().fit(X_train_vect, y_train.values.ravel())"
      ]
    },
    {
      "cell_type": "markdown",
      "metadata": {
        "id": "I2oxhAtbEGpz"
      },
      "source": [
        "#### 2- SVM"
      ]
    },
    {
      "cell_type": "code",
      "execution_count": null,
      "metadata": {
        "id": "MZ3UQ4UIEGpz"
      },
      "outputs": [],
      "source": [
        "from sklearn.svm import SVC\n",
        "\n",
        "#SVM Classifier\n",
        "SV = SVC().fit(X_train_vect, y_train.values.ravel())"
      ]
    },
    {
      "cell_type": "markdown",
      "metadata": {
        "id": "LSO2vptQEGpz"
      },
      "source": [
        "#### 3-Naive Bayes"
      ]
    },
    {
      "cell_type": "code",
      "execution_count": null,
      "metadata": {
        "id": "TQYSzOwnEGpz"
      },
      "outputs": [],
      "source": [
        "from sklearn.naive_bayes import MultinomialNB\n",
        "\n",
        "#Naive Bayes\n",
        "NV = MultinomialNB().fit(X_train_vect, y_train.values.ravel())"
      ]
    },
    {
      "cell_type": "markdown",
      "metadata": {
        "id": "IsHPtePsEGpz"
      },
      "source": [
        "### Models Evaluation"
      ]
    },
    {
      "cell_type": "code",
      "execution_count": null,
      "metadata": {
        "id": "gpBbpphwEGpz"
      },
      "outputs": [],
      "source": [
        "from sklearn.metrics import precision_score, recall_score\n",
        "\n",
        "# Evaluate the predictions of the model on the test set\n",
        "def score_model(model,X_test,y_test):\n",
        "    y_pred = model.predict(X_test)\n",
        "    precision = precision_score(y_test, y_pred,zero_division=1)\n",
        "    recall = recall_score(y_test, y_pred)\n",
        "    print('Model : {}\\n \\nPrecision: {}  \\nRecall: {}  \\nAccuracy: {}\\n'.format(model,\n",
        "        round(precision*100, 2), round(recall*100, 2), round((y_pred==y_test).sum()/len(y_pred)*100, 2)))"
      ]
    },
    {
      "cell_type": "code",
      "execution_count": null,
      "metadata": {
        "id": "4y36K2GwEGp0"
      },
      "outputs": [],
      "source": [
        "classifiers = pd.Series([LR,SV, NV])"
      ]
    },
    {
      "cell_type": "code",
      "execution_count": null,
      "metadata": {
        "id": "_2tcqrfiEGp0",
        "outputId": "fefe290a-c140-4ba4-8d33-9780d239585c"
      },
      "outputs": [
        {
          "name": "stdout",
          "output_type": "stream",
          "text": [
            "Model : LogisticRegression()\n",
            " \n",
            "Precision: 94.19  \n",
            "Recall: 87.95  \n",
            "Accuracy: 90.76\n",
            "\n",
            "Model : SVC()\n",
            " \n",
            "Precision: 94.81  \n",
            "Recall: 87.95  \n",
            "Accuracy: 91.08\n",
            "\n",
            "Model : MultinomialNB()\n",
            " \n",
            "Precision: 92.02  \n",
            "Recall: 90.36  \n",
            "Accuracy: 90.76\n",
            "\n"
          ]
        },
        {
          "data": {
            "text/plain": [
              "0    None\n",
              "1    None\n",
              "2    None\n",
              "dtype: object"
            ]
          },
          "execution_count": 115,
          "metadata": {},
          "output_type": "execute_result"
        }
      ],
      "source": [
        "classifiers.apply(lambda x: score_model(x,X_test_vect,y_test))"
      ]
    },
    {
      "cell_type": "code",
      "execution_count": null,
      "metadata": {
        "id": "8oah-iwiEGp0"
      },
      "outputs": [],
      "source": []
    }
  ],
  "metadata": {
    "kernelspec": {
      "display_name": "Python 3",
      "language": "python",
      "name": "python3"
    },
    "language_info": {
      "codemirror_mode": {
        "name": "ipython",
        "version": 3
      },
      "file_extension": ".py",
      "mimetype": "text/x-python",
      "name": "python",
      "nbconvert_exporter": "python",
      "pygments_lexer": "ipython3",
      "version": "3.8.5"
    },
    "colab": {
      "provenance": []
    }
  },
  "nbformat": 4,
  "nbformat_minor": 0
}